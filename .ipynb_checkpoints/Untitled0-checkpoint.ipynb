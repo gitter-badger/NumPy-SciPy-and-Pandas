{
 "metadata": {
  "name": "",
  "signature": "sha256:40cfddc755ae7e0198883655489ba5acc98a15659b2bd4d554b6633a8e47ddf0"
 },
 "nbformat": 3,
 "nbformat_minor": 0,
 "worksheets": []
}